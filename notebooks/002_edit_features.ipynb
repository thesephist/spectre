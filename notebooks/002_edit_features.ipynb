{
 "cells": [
  {
   "cell_type": "markdown",
   "metadata": {},
   "source": [
    "# Make semantic text edits with a sparse autoencoder\n",
    "\n",
    "This notebook..."
   ]
  },
  {
   "cell_type": "code",
   "execution_count": 5,
   "metadata": {
    "metadata": {}
   },
   "outputs": [],
   "source": [
    "import torch\n",
    "import torch.nn as nn\n",
    "import torch.nn.functional as F\n",
    "\n",
    "# python path hack for local imports\n",
    "import sys\n",
    "\n",
    "sys.path.append(\"..\")\n",
    "\n",
    "from models import (\n",
    "    BottleneckT5Autoencoder,\n",
    "    SparseAutoencoder,\n",
    "    SpectrePretrainedConfig,\n",
    ")\n",
    "from models.feature_registry import load_spectre_features\n",
    "from models.edit_modes import EditMode"
   ]
  },
  {
   "cell_type": "code",
   "execution_count": 2,
   "metadata": {
    "metadata": {}
   },
   "outputs": [],
   "source": [
    "# The \"t5-large\" variant of the main text autoencoder is a good balance between\n",
    "# performance and speed, so we'll use it for this demo.\n",
    "model_path = \"thesephist/contra-bottleneck-t5-large-wikipedia\"\n",
    "\n",
    "device = torch.device(\"cuda:0\" if torch.cuda.is_available() else \"cpu\")\n",
    "contra = BottleneckT5Autoencoder(\n",
    "    model_path=model_path,\n",
    "    device=device,\n",
    ")"
   ]
  },
  {
   "cell_type": "code",
   "execution_count": 3,
   "metadata": {
    "metadata": {}
   },
   "outputs": [],
   "source": [
    "# Load the corresponding sparse autoencoder and list of pre-labelled features\n",
    "# for the \"large\" model variant.\n",
    "sae_name = \"lg-v6\"\n",
    "sae = SparseAutoencoder.from_pretrained(\n",
    "    f\"thesephist/spectre-{sae_name}\",\n",
    "    config=SpectrePretrainedConfig.lg_v6,\n",
    ")\n",
    "features = load_spectre_features(sae_name)"
   ]
  },
  {
   "cell_type": "code",
   "execution_count": 7,
   "metadata": {
    "metadata": {}
   },
   "outputs": [
    {
     "data": {
      "text/plain": [
       "tensor([0., 0., 0.,  ..., 0., 0., 0.], grad_fn=<ReluBackward0>)"
      ]
     },
     "execution_count": 7,
     "metadata": {},
     "output_type": "execute_result"
    }
   ],
   "source": [
    "target_text = \"\"\"\n",
    "All human beings are born free and equal in dignity and rights. They are endowed with reason and conscience and should act towards one another in a spirit of brotherhood.\n",
    "\"\"\".strip()\n",
    "\n",
    "embedding = contra.embed(target_text)\n",
    "feature_activations = sae.encode(embedding)\n",
    "feature_activations"
   ]
  },
  {
   "cell_type": "code",
   "execution_count": 8,
   "metadata": {
    "metadata": {}
   },
   "outputs": [
    {
     "name": "stdout",
     "output_type": "stream",
     "text": [
      "All people are born free and have an obligation to drive cars and trucks in one spirit.\n",
      "All people are born free and deserve to drive their cars in virtue of being one and the same human being.\n",
      "All people are born free and have the right to drive cars in their spirit and honour.\n"
     ]
    }
   ],
   "source": [
    "edited_feature_activations = feature_activations.clone()\n",
    "edited_feature_activations[2198] = 2.0\n",
    "\n",
    "edited_embedding = EditMode.dictgrad(\n",
    "    sae,\n",
    "    x=embedding,\n",
    "    f=edited_feature_activations,\n",
    "    original_features=feature_activations,\n",
    ")\n",
    "for i in range(3):\n",
    "    edited_text = contra.generate_from_latent(edited_embedding)\n",
    "    print(edited_text)"
   ]
  },
  {
   "cell_type": "code",
   "execution_count": 9,
   "metadata": {
    "metadata": {}
   },
   "outputs": [
    {
     "name": "stdout",
     "output_type": "stream",
     "text": [
      "All human beings are born free and equal in dignity and reason, and are endowed with the right to practice the Buddhist faith and to act in a spirit of humility towards one another.\n",
      "All human beings are born free and in dignity and are endowed with the duty to practice oneness and respect each other in a Buddhist spirit.\n",
      "All human beings are born free and equal in dignity and rights and are endowed with the ability to practice their conscience and to think in harmony with one another.\n"
     ]
    }
   ],
   "source": [
    "edited_feature_activations = feature_activations.clone()\n",
    "edited_feature_activations[7974] = 1.0\n",
    "\n",
    "edited_embedding = EditMode.dictgrad(\n",
    "    sae,\n",
    "    x=embedding,\n",
    "    f=edited_feature_activations,\n",
    "    original_features=feature_activations,\n",
    ")\n",
    "for i in range(3):\n",
    "    edited_text = contra.generate_from_latent(edited_embedding)\n",
    "    print(edited_text)"
   ]
  },
  {
   "cell_type": "code",
   "execution_count": 12,
   "metadata": {
    "metadata": {}
   },
   "outputs": [
    {
     "name": "stdout",
     "output_type": "stream",
     "text": [
      "All humans are born free and equal in dignity and love and are endowed with the power to think about themselves and others in a joyful way.\n",
      "All people are born free of hunger and sweets and should cherish each other in a spirit of goodness and love.\n",
      "All humans are born with free and equal rights in taste and can end up in the spirit of sweetness and goodness among themselves.\n"
     ]
    }
   ],
   "source": [
    "edited_feature_activations = feature_activations.clone()\n",
    "edited_feature_activations[8022] = 1.5\n",
    "\n",
    "edited_embedding = EditMode.dictgrad(\n",
    "    sae,\n",
    "    x=embedding,\n",
    "    f=edited_feature_activations,\n",
    "    original_features=feature_activations,\n",
    ")\n",
    "for i in range(3):\n",
    "    edited_text = contra.generate_from_latent(edited_embedding)\n",
    "    print(edited_text)"
   ]
  },
  {
   "cell_type": "code",
   "execution_count": 15,
   "metadata": {
    "metadata": {}
   },
   "outputs": [
    {
     "name": "stdout",
     "output_type": "stream",
     "text": [
      "I was born free of all emotions and turned myself in dignity and conscience, and I ought to end up with love towards one another in a human spirit.\n",
      "I was born free of all emotions and duty and redeemed myself in my conscience and felt bound to act in harmony with one another.\n",
      "I was born free and equal in dignity and I am endowed with the right to think and act in harmony with one another.\n"
     ]
    }
   ],
   "source": [
    "edited_feature_activations = feature_activations.clone()\n",
    "edited_feature_activations[596] = 1.2\n",
    "\n",
    "edited_embedding = EditMode.dictgrad(\n",
    "    sae,\n",
    "    x=embedding,\n",
    "    f=edited_feature_activations,\n",
    "    original_features=feature_activations,\n",
    ")\n",
    "for i in range(3):\n",
    "    edited_text = contra.generate_from_latent(edited_embedding)\n",
    "    print(edited_text)"
   ]
  },
  {
   "cell_type": "code",
   "execution_count": null,
   "metadata": {},
   "outputs": [],
   "source": []
  }
 ],
 "metadata": {
  "kernelspec": {
   "display_name": "venv",
   "language": "python",
   "name": "python3"
  },
  "language_info": {
   "codemirror_mode": {
    "name": "ipython",
    "version": 3
   },
   "file_extension": ".py",
   "mimetype": "text/x-python",
   "name": "python",
   "nbconvert_exporter": "python",
   "pygments_lexer": "ipython3",
   "version": "3.12.3"
  }
 },
 "nbformat": 4,
 "nbformat_minor": 2
}
